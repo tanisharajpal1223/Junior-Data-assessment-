import pandas as pd
import matplotlib.pyplot as plt
import seaborn as sns

# Load data
patient_data = pd.read_excel('patient_data.xlsx')
vitals_data = pd.read_excel('vitals_data.xlsx')

# Explore basic trends
print(patient_data.head())
print(vitals_data.head())

# Visualize age distribution
plt.hist(patient_data['age'], bins=15, color='skyblue', edgecolor='black')
plt.title('Patient Age Distribution')
plt.xlabel('Age')
plt.ylabel('Number of Patients')
plt.show()

# Correlation analysis
correlation = vitals_data[['heart_rate', 'blood_pressure', 'temperature']].corr()
print(correlation)

# Example insight: Identify high-risk patients based on blood pressure and heart rate
high_risk_patients = vitals_data[(vitals_data['blood_pressure'] > '140/90') | (vitals_data['heart_rate'] > 100)]
print(high_risk_patients)
